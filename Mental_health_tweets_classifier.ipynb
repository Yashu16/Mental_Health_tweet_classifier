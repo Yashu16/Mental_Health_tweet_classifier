{
 "cells": [
  {
   "cell_type": "code",
   "execution_count": 1,
   "id": "80a0effa",
   "metadata": {},
   "outputs": [
    {
     "name": "stderr",
     "output_type": "stream",
     "text": [
      "c:\\Users\\yaswa\\anaconda3\\envs\\Envione\\Lib\\site-packages\\pandas\\core\\arrays\\masked.py:60: UserWarning: Pandas requires version '1.3.6' or newer of 'bottleneck' (version '1.3.5' currently installed).\n",
      "  from pandas.core import (\n"
     ]
    }
   ],
   "source": [
    "from transformers import BertTokenizer, BertForSequenceClassification, Trainer, TrainingArguments\n",
    "from transformers import DataCollatorWithPadding\n",
    "from datasets import Dataset\n",
    "import torch\n",
    "import pandas as pd"
   ]
  },
  {
   "cell_type": "code",
   "execution_count": 2,
   "id": "80d7760a",
   "metadata": {},
   "outputs": [],
   "source": [
    "df = pd.read_csv(\"Mental-Health-Twitter.csv\")"
   ]
  },
  {
   "cell_type": "code",
   "execution_count": 3,
   "id": "36efed06",
   "metadata": {},
   "outputs": [],
   "source": [
    "import re\n",
    "\n",
    "def cleaned_tweets(text):\n",
    "    text = str(text)\n",
    "    text = text.replace('\\n', ' ')\n",
    "    text = re.sub(r'http\\S+', '', text)  # remove URLs\n",
    "    text = re.sub(r'@\\w+', '', text)     # remove @mentions\n",
    "    text = re.sub(r'#\\s+', '', text)     # remove space after #\n",
    "    text = re.sub(r'\\s+', ' ', text).strip()  # collapse multiple spaces\n",
    "    return text.lower()\n",
    "\n",
    "df['cleaned_text'] = df['post_text'].apply(cleaned_tweets)\n",
    "df = df[['cleaned_text', 'label']]"
   ]
  },
  {
   "cell_type": "code",
   "execution_count": 4,
   "id": "9cee5d53",
   "metadata": {},
   "outputs": [
    {
     "data": {
      "application/vnd.jupyter.widget-view+json": {
       "model_id": "a5de8e2aba7d4a95bb6e578e076efc6c",
       "version_major": 2,
       "version_minor": 0
      },
      "text/plain": [
       "Map:   0%|          | 0/20000 [00:00<?, ? examples/s]"
      ]
     },
     "metadata": {},
     "output_type": "display_data"
    }
   ],
   "source": [
    "tokenizer = BertTokenizer.from_pretrained(\"bert-base-uncased\")\n",
    "def tokenize(batch):\n",
    "    return tokenizer(batch[\"cleaned_text\"], truncation = True)\n",
    "\n",
    "dataset = Dataset.from_pandas(df)\n",
    "tokenized_dataset = dataset.map(tokenize, batched= True)"
   ]
  },
  {
   "cell_type": "code",
   "execution_count": 5,
   "id": "50fb7c11",
   "metadata": {},
   "outputs": [
    {
     "name": "stderr",
     "output_type": "stream",
     "text": [
      "Some weights of BertForSequenceClassification were not initialized from the model checkpoint at bert-base-uncased and are newly initialized: ['classifier.bias', 'classifier.weight']\n",
      "You should probably TRAIN this model on a down-stream task to be able to use it for predictions and inference.\n"
     ]
    }
   ],
   "source": [
    "model = BertForSequenceClassification.from_pretrained(\"bert-base-uncased\", num_labels = 2)\n",
    "\n",
    "args = TrainingArguments(output_dir= \"bert_results\",\n",
    "                         eval_strategy = \"epoch\",\n",
    "                         save_strategy= \"epoch\",\n",
    "                         per_device_train_batch_size= 16,\n",
    "                         per_device_eval_batch_size= 16, \n",
    "                         num_train_epochs=  3, \n",
    "                         weight_decay= 0.01, \n",
    "                         logging_dir= './logs',\n",
    ")\n"
   ]
  },
  {
   "cell_type": "code",
   "execution_count": 7,
   "id": "354c91f8",
   "metadata": {},
   "outputs": [],
   "source": [
    "from sklearn.metrics import accuracy_score, precision_recall_fscore_support, classification_report, confusion_matrix\n",
    "\n",
    "def compute_metrics(s):\n",
    "    preds = s.predictions.argmax(-1)\n",
    "    labels = s.label_ids\n",
    "    precision, recall, f1, _ = precision_recall_fscore_support(labels, preds, average= 'binary')\n",
    "    acc = accuracy_score(labels, preds)\n",
    "    return {\"accuracy\" : acc, \"precision\" : precision, \"recall\": recall, \"f1\" : f1}"
   ]
  },
  {
   "cell_type": "code",
   "execution_count": null,
   "id": "dd3feba0",
   "metadata": {},
   "outputs": [],
   "source": [
    "data_collator = DataCollatorWithPadding(tokenizer= tokenizer)\n",
    "\n",
    "split = tokenized_dataset.train_test_split(test_size= 0.2, seed = 42)\n",
    "train_dataset = split[\"train\"]\n",
    "eval_dataset = split[\"test\"]\n",
    "trainer = Trainer(\n",
    "            model = model,\n",
    "            args= args,\n",
    "            train_dataset= train_dataset,\n",
    "            eval_dataset= eval_dataset,\n",
    "            tokenizer = tokenizer,\n",
    "            data_collator= data_collator,\n",
    "            compute_metrics = compute_metrics,\n",
    ")\n",
    "trainer.train()"
   ]
  },
  {
   "cell_type": "markdown",
   "id": "92fa0d4c",
   "metadata": {},
   "source": [
    "TrainOutput(global_step=3000, training_loss=0.26926785659790037, metrics={'train_runtime': 6278.4969, 'train_samples_per_second': 7.645, 'train_steps_per_second': 0.478, 'total_flos': 892267144269120.0, 'train_loss': 0.26926785659790037, 'epoch': 3.0})\n"
   ]
  },
  {
   "cell_type": "code",
   "execution_count": 10,
   "id": "f642a9ea",
   "metadata": {},
   "outputs": [
    {
     "name": "stderr",
     "output_type": "stream",
     "text": [
      "c:\\Users\\yaswa\\anaconda3\\envs\\Envione\\Lib\\site-packages\\torch\\utils\\data\\dataloader.py:665: UserWarning: 'pin_memory' argument is set as true but no accelerator is found, then device pinned memory won't be used.\n",
      "  warnings.warn(warn_msg)\n"
     ]
    },
    {
     "data": {
      "application/vnd.jupyter.widget-view+json": {
       "model_id": "46aa106a31bb4ffd860c9e1834bf74c6",
       "version_major": 2,
       "version_minor": 0
      },
      "text/plain": [
       "  0%|          | 0/250 [00:00<?, ?it/s]"
      ]
     },
     "metadata": {},
     "output_type": "display_data"
    }
   ],
   "source": [
    "predictions_output = trainer.predict(eval_dataset)\n",
    "y_pred = predictions_output.predictions.argmax(-1)\n",
    "y_true = predictions_output.label_ids"
   ]
  },
  {
   "cell_type": "code",
   "execution_count": 12,
   "id": "67d1b22c",
   "metadata": {},
   "outputs": [],
   "source": [
    "results_df = pd.DataFrame({\n",
    "    \"text\" : eval_dataset['cleaned_text'],\n",
    "    'true' : y_true,\n",
    "    'pred' : y_pred\n",
    "})\n",
    "\n",
    "false_positives = results_df[(results_df['true'] == 0) & (results_df['pred'] == 1)]\n",
    "false_negatives = results_df[(results_df['true'] == 1) & (results_df['pred'] == 0)]"
   ]
  },
  {
   "cell_type": "code",
   "execution_count": 13,
   "id": "0c5d17c5",
   "metadata": {},
   "outputs": [
    {
     "name": "stdout",
     "output_type": "stream",
     "text": [
      "                   precision    recall  f1-score   support\n",
      "\n",
      "Not mental Health       0.95      0.94      0.95      2029\n",
      "    Mental health       0.94      0.95      0.94      1971\n",
      "\n",
      "         accuracy                           0.94      4000\n",
      "        macro avg       0.94      0.94      0.94      4000\n",
      "     weighted avg       0.94      0.94      0.94      4000\n",
      "\n"
     ]
    }
   ],
   "source": [
    "print(classification_report(y_true, y_pred, target_names= [\"Not mental Health\", \"Mental health\"]))"
   ]
  },
  {
   "cell_type": "code",
   "execution_count": 16,
   "id": "bdd95225",
   "metadata": {},
   "outputs": [
    {
     "data": {
      "application/vnd.microsoft.datawrangler.viewer.v0+json": {
       "columns": [
        {
         "name": "index",
         "rawType": "int64",
         "type": "integer"
        },
        {
         "name": "text",
         "rawType": "object",
         "type": "string"
        }
       ],
       "ref": "a67c8acb-2c96-4a38-841a-461432eba905",
       "rows": [
        [
         "52",
         "rt : worrying about what’s going to happen blocks us from functioning effectively today. stay in the now and do your best -…"
        ],
        [
         "128",
         "you should carry yourself in a way as such. like you shouldn't change anything except how you think about yourself."
        ],
        [
         "286",
         "stop trying to redirect this to me"
        ],
        [
         "386",
         "you got that damn straight"
        ],
        [
         "398",
         "thank you so much!"
        ],
        [
         "422",
         "rt : if this is something you are able to help with, please let swou know, or send an email to with l…"
        ],
        [
         "482",
         "make sure that you take time every day to do something for you!! with the craziness that is life…"
        ],
        [
         "513",
         "i'm not saying i'm qualified to be judge, jury &amp; executioner, but my opinion is that the justice system has failed the victim."
        ],
        [
         "523",
         "rt : the force is in you"
        ],
        [
         "570",
         "when ppl on tv shows say they like to entertain large parties and they're snooty about it,i'm like what if they're not even entertained by u"
        ]
       ],
       "shape": {
        "columns": 1,
        "rows": 10
       }
      },
      "text/plain": [
       "52     rt : worrying about what’s going to happen blo...\n",
       "128    you should carry yourself in a way as such. li...\n",
       "286                   stop trying to redirect this to me\n",
       "386                           you got that damn straight\n",
       "398                                   thank you so much!\n",
       "422    rt : if this is something you are able to help...\n",
       "482    make sure that you take time every day to do s...\n",
       "513    i'm not saying i'm qualified to be judge, jury...\n",
       "523                             rt : the force is in you\n",
       "570    when ppl on tv shows say they like to entertai...\n",
       "Name: text, dtype: object"
      ]
     },
     "execution_count": 16,
     "metadata": {},
     "output_type": "execute_result"
    }
   ],
   "source": [
    "false_negatives['text'].head(10)"
   ]
  },
  {
   "cell_type": "code",
   "execution_count": 17,
   "id": "bdd1c5ba",
   "metadata": {},
   "outputs": [
    {
     "data": {
      "application/vnd.microsoft.datawrangler.viewer.v0+json": {
       "columns": [
        {
         "name": "index",
         "rawType": "int64",
         "type": "integer"
        },
        {
         "name": "text",
         "rawType": "object",
         "type": "string"
        }
       ],
       "ref": "4083be62-defc-423d-a442-b5d94da44719",
       "rows": [
        [
         "4",
         "love their tolerance"
        ],
        [
         "10",
         "10 people followed me and 8 people unfollowed me // automatically checked by"
        ],
        [
         "22",
         "rt : *rick ross grunt*"
        ],
        [
         "35",
         "rt : wiser words have never been spoken."
        ],
        [
         "69",
         "rt : i make the city move!!"
        ],
        [
         "99",
         "rt : the problem with depression &amp; anxiety is they always kick you when you're down."
        ],
        [
         "118",
         "rt : bro my best friend don't even text back"
        ],
        [
         "243",
         "rt : life hack: don't expect stuff &amp; you'll never be disappointed"
        ],
        [
         "280",
         "rt : don't apologize, then do it again."
        ],
        [
         "288",
         "9 people followed me and 9 people unfollowed me // automatically checked by"
        ]
       ],
       "shape": {
        "columns": 1,
        "rows": 10
       }
      },
      "text/plain": [
       "4                                   love their tolerance\n",
       "10     10 people followed me and 8 people unfollowed ...\n",
       "22                                rt : *rick ross grunt*\n",
       "35              rt : wiser words have never been spoken.\n",
       "69                           rt : i make the city move!!\n",
       "99     rt : the problem with depression &amp; anxiety...\n",
       "118         rt : bro my best friend don't even text back\n",
       "243    rt : life hack: don't expect stuff &amp; you'l...\n",
       "280              rt : don't apologize, then do it again.\n",
       "288    9 people followed me and 9 people unfollowed m...\n",
       "Name: text, dtype: object"
      ]
     },
     "execution_count": 17,
     "metadata": {},
     "output_type": "execute_result"
    }
   ],
   "source": [
    "false_positives['text'].head(10)"
   ]
  },
  {
   "cell_type": "code",
   "execution_count": 22,
   "id": "41bf57b4",
   "metadata": {},
   "outputs": [
    {
     "data": {
      "text/plain": [
       "array([[1899,  130],\n",
       "       [  91, 1880]], dtype=int64)"
      ]
     },
     "execution_count": 22,
     "metadata": {},
     "output_type": "execute_result"
    }
   ],
   "source": [
    "confusion_matrix(y_true, y_pred)"
   ]
  },
  {
   "cell_type": "code",
   "execution_count": null,
   "id": "c7195ac8",
   "metadata": {},
   "outputs": [],
   "source": []
  }
 ],
 "metadata": {
  "kernelspec": {
   "display_name": "Envione",
   "language": "python",
   "name": "python3"
  },
  "language_info": {
   "codemirror_mode": {
    "name": "ipython",
    "version": 3
   },
   "file_extension": ".py",
   "mimetype": "text/x-python",
   "name": "python",
   "nbconvert_exporter": "python",
   "pygments_lexer": "ipython3",
   "version": "3.11.7"
  }
 },
 "nbformat": 4,
 "nbformat_minor": 5
}
